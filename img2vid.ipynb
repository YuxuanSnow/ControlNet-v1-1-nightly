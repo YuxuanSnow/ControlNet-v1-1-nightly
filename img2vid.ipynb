{
 "cells": [
  {
   "cell_type": "code",
   "execution_count": 2,
   "metadata": {},
   "outputs": [
    {
     "ename": "ImportError",
     "evalue": "cannot import name 'StableVideoDiffusionPipeline' from 'diffusers' (/home/yuxuan/miniconda3/envs/controlnet/lib/python3.9/site-packages/diffusers/__init__.py)",
     "output_type": "error",
     "traceback": [
      "\u001b[0;31m---------------------------------------------------------------------------\u001b[0m",
      "\u001b[0;31mImportError\u001b[0m                               Traceback (most recent call last)",
      "\u001b[1;32m/home/yuxuan/project/ControlNet-v1-1-nightly/img2vid.ipynb Cell 1\u001b[0m line \u001b[0;36m9\n\u001b[1;32m      <a href='vscode-notebook-cell:/home/yuxuan/project/ControlNet-v1-1-nightly/img2vid.ipynb#W0sZmlsZQ%3D%3D?line=5'>6</a>\u001b[0m \u001b[39mfrom\u001b[39;00m \u001b[39mpathlib\u001b[39;00m \u001b[39mimport\u001b[39;00m Path\n\u001b[1;32m      <a href='vscode-notebook-cell:/home/yuxuan/project/ControlNet-v1-1-nightly/img2vid.ipynb#W0sZmlsZQ%3D%3D?line=6'>7</a>\u001b[0m \u001b[39mfrom\u001b[39;00m \u001b[39mtyping\u001b[39;00m \u001b[39mimport\u001b[39;00m Optional\n\u001b[0;32m----> <a href='vscode-notebook-cell:/home/yuxuan/project/ControlNet-v1-1-nightly/img2vid.ipynb#W0sZmlsZQ%3D%3D?line=8'>9</a>\u001b[0m \u001b[39mfrom\u001b[39;00m \u001b[39mdiffusers\u001b[39;00m \u001b[39mimport\u001b[39;00m StableVideoDiffusionPipeline\n\u001b[1;32m     <a href='vscode-notebook-cell:/home/yuxuan/project/ControlNet-v1-1-nightly/img2vid.ipynb#W0sZmlsZQ%3D%3D?line=9'>10</a>\u001b[0m \u001b[39mfrom\u001b[39;00m \u001b[39mdiffusers\u001b[39;00m\u001b[39m.\u001b[39;00m\u001b[39mutils\u001b[39;00m \u001b[39mimport\u001b[39;00m load_image, export_to_video\n\u001b[1;32m     <a href='vscode-notebook-cell:/home/yuxuan/project/ControlNet-v1-1-nightly/img2vid.ipynb#W0sZmlsZQ%3D%3D?line=10'>11</a>\u001b[0m \u001b[39mfrom\u001b[39;00m \u001b[39mPIL\u001b[39;00m \u001b[39mimport\u001b[39;00m Image\n",
      "\u001b[0;31mImportError\u001b[0m: cannot import name 'StableVideoDiffusionPipeline' from 'diffusers' (/home/yuxuan/miniconda3/envs/controlnet/lib/python3.9/site-packages/diffusers/__init__.py)"
     ]
    }
   ],
   "source": [
    "import gradio as gr\n",
    "#import gradio.helpers\n",
    "import torch\n",
    "import os\n",
    "from glob import glob\n",
    "from pathlib import Path\n",
    "from typing import Optional\n",
    "\n",
    "from diffusers import StableVideoDiffusionPipeline\n",
    "from diffusers.utils import load_image, export_to_video\n",
    "from PIL import Image\n",
    "\n",
    "import uuid\n",
    "import random\n",
    "from huggingface_hub import hf_hub_download"
   ]
  }
 ],
 "metadata": {
  "kernelspec": {
   "display_name": "controlnet",
   "language": "python",
   "name": "python3"
  },
  "language_info": {
   "codemirror_mode": {
    "name": "ipython",
    "version": 3
   },
   "file_extension": ".py",
   "mimetype": "text/x-python",
   "name": "python",
   "nbconvert_exporter": "python",
   "pygments_lexer": "ipython3",
   "version": "3.9.18"
  },
  "orig_nbformat": 4
 },
 "nbformat": 4,
 "nbformat_minor": 2
}
